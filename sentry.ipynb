{
 "cells": [
  {
   "cell_type": "code",
   "execution_count": 2,
   "id": "719a6d66-9140-4f4d-9b55-d78302b1c8d4",
   "metadata": {},
   "outputs": [],
   "source": [
    "import pandas as pd\n",
    "import numpy as np\n",
    "from sklearn.model_selection import train_test_split\n",
    "from sklearn.feature_extraction.text import TfidfVectorizer\n",
    "from sklearn.naive_bayes import MultinomialNB\n",
    "from sklearn.metrics import accuracy_score, classification_report\n"
   ]
  },
  {
   "cell_type": "code",
   "execution_count": 3,
   "id": "c779f361-fe7b-4fed-86bf-fd5f2f30fd21",
   "metadata": {},
   "outputs": [],
   "source": [
    "data = pd.read_csv(\"spam_ham_dataset.csv\", encoding='latin-1')\n",
    "# The DataFrame likely has columns named 'Unnamed: 0', 'label', 'text', and 'Unnamed: 4'.\n",
    "# Adjust column selection accordingly.\n",
    "data = data[['label', 'text']]\n",
    "# Rename the columns to 'label' and 'message'.\n",
    "data.columns = ['label', 'message']\n",
    "\n",
    "data['label'] = data['label'].map({'ham': 0, 'spam': 1})"
   ]
  },
  {
   "cell_type": "code",
   "execution_count": 4,
   "id": "3defcd97-9323-4759-bbcf-8facbf1116d4",
   "metadata": {},
   "outputs": [
    {
     "name": "stdout",
     "output_type": "stream",
     "text": [
      "Accuracy: 0.95\n",
      "              precision    recall  f1-score   support\n",
      "\n",
      "           0       0.97      0.95      0.96       742\n",
      "           1       0.89      0.93      0.91       293\n",
      "\n",
      "    accuracy                           0.95      1035\n",
      "   macro avg       0.93      0.94      0.93      1035\n",
      "weighted avg       0.95      0.95      0.95      1035\n",
      "\n"
     ]
    }
   ],
   "source": [
    "X_train, X_test, y_train, y_test = train_test_split(\n",
    "    data['message'], data['label'], test_size=0.2, random_state=42)\n",
    "\n",
    "# Feature extraction\n",
    "vectorizer = TfidfVectorizer(stop_words='english', max_features=3000)\n",
    "X_train_tfidf = vectorizer.fit_transform(X_train)\n",
    "X_test_tfidf = vectorizer.transform(X_test)\n",
    "\n",
    "# Train model\n",
    "model = MultinomialNB()\n",
    "model.fit(X_train_tfidf, y_train)\n",
    "\n",
    "# Predictions\n",
    "y_pred = model.predict(X_test_tfidf)\n",
    "\n",
    "# Evaluate model\n",
    "accuracy = accuracy_score(y_test, y_pred)\n",
    "print(f'Accuracy: {accuracy:.2f}')\n",
    "print(classification_report(y_test, y_pred))"
   ]
  },
  {
   "cell_type": "code",
   "execution_count": null,
   "id": "b6f2ed02-8ada-4822-bc60-d7b943bcd1fc",
   "metadata": {},
   "outputs": [],
   "source": [
    "# User input for classification\n",
    "def classify_email():\n",
    "    user_input = input(\"Enter an email message: \")\n",
    "    user_input_tfidf = vectorizer.transform([user_input])\n",
    "    prediction = model.predict(user_input_tfidf)[0]\n",
    "    print(\"Spam\" if prediction == 1 else \"Not Spam\")\n",
    "\n",
    "# Run classification for user input\n",
    "classify_email()"
   ]
  },
  {
   "cell_type": "code",
   "execution_count": null,
   "id": "d81769d7-d43c-4037-8ccb-120ee3aeced5",
   "metadata": {},
   "outputs": [],
   "source": []
  }
 ],
 "metadata": {
  "kernelspec": {
   "display_name": "Python 3 (ipykernel)",
   "language": "python",
   "name": "python3"
  },
  "language_info": {
   "codemirror_mode": {
    "name": "ipython",
    "version": 3
   },
   "file_extension": ".py",
   "mimetype": "text/x-python",
   "name": "python",
   "nbconvert_exporter": "python",
   "pygments_lexer": "ipython3",
   "version": "3.13.1"
  }
 },
 "nbformat": 4,
 "nbformat_minor": 5
}
